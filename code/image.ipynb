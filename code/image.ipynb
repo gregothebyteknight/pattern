{
 "cells": [
  {
   "cell_type": "code",
   "execution_count": null,
   "metadata": {},
   "outputs": [],
   "source": [
    "import scanpy as sc\n",
    "import pandas as pd\n",
    "import numpy as np\n",
    "\n",
    "adata = sc.read(\"../data/adata_umap.h5ad\")\n",
    "coords = pd.read_csv('../data/cell_coordinates.csv')\n",
    "coords['cluster'] = np.array(coords['cluster']).astype('str')"
   ]
  },
  {
   "cell_type": "code",
   "execution_count": null,
   "metadata": {},
   "outputs": [],
   "source": [
    "import plotly.express as px\n",
    "import pandas as pd\n",
    "\n",
    "\n",
    "cluster_type = [\"14\"]\n",
    "\n",
    "\n",
    "fig = px.scatter_3d(coords[coords['cluster'].isin(cluster_type)], x = 'x', y = 'y', z = 'z', color = 'cluster', title = 'Interactive 3D Scatter',\n",
    "                    opacity = 0.7)\n",
    "fig.update_traces(marker = dict(size = 1))\n",
    "\n",
    "fig.update_layout(\n",
    "    scene = dict(\n",
    "        xaxis = dict(range = [-100, 1400]),\n",
    "        yaxis = dict(range = [-100, 1400]),\n",
    "        zaxis = dict(range = [-100, 700])\n",
    "    )\n",
    ")\n",
    "fig.show()"
   ]
  }
 ],
 "metadata": {
  "kernelspec": {
   "display_name": "code",
   "language": "python",
   "name": "python3"
  },
  "language_info": {
   "codemirror_mode": {
    "name": "ipython",
    "version": 3
   },
   "file_extension": ".py",
   "mimetype": "text/x-python",
   "name": "python",
   "nbconvert_exporter": "python",
   "pygments_lexer": "ipython3",
   "version": "3.13.2"
  }
 },
 "nbformat": 4,
 "nbformat_minor": 2
}
