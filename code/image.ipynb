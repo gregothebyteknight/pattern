{
 "cells": [
  {
   "cell_type": "code",
   "execution_count": 20,
   "metadata": {},
   "outputs": [],
   "source": [
    "# import scanpy as sc\n",
    "import pandas as pd\n",
    "import numpy as np\n",
    "import plotly.express as px\n",
    "from cluster import spatial_cells\n",
    "\n",
    "# adata = sc.read(\"../data/adata_umap.h5ad\")\n",
    "coords = pd.read_csv('../data/sci_brain/cell_coordinates.csv')\n",
    "coords['cluster'] = np.array(coords['cluster']).astype('str')"
   ]
  },
  {
   "cell_type": "code",
   "execution_count": 21,
   "metadata": {},
   "outputs": [
    {
     "data": {
      "text/html": [
       "<div>\n",
       "<style scoped>\n",
       "    .dataframe tbody tr th:only-of-type {\n",
       "        vertical-align: middle;\n",
       "    }\n",
       "\n",
       "    .dataframe tbody tr th {\n",
       "        vertical-align: top;\n",
       "    }\n",
       "\n",
       "    .dataframe thead th {\n",
       "        text-align: right;\n",
       "    }\n",
       "</style>\n",
       "<table border=\"1\" class=\"dataframe\">\n",
       "  <thead>\n",
       "    <tr style=\"text-align: right;\">\n",
       "      <th></th>\n",
       "      <th>x</th>\n",
       "      <th>y</th>\n",
       "      <th>z</th>\n",
       "    </tr>\n",
       "  </thead>\n",
       "  <tbody>\n",
       "    <tr>\n",
       "      <th>count</th>\n",
       "      <td>18387.000000</td>\n",
       "      <td>18387.000000</td>\n",
       "      <td>18387.000000</td>\n",
       "    </tr>\n",
       "    <tr>\n",
       "      <th>mean</th>\n",
       "      <td>1387.847171</td>\n",
       "      <td>648.816604</td>\n",
       "      <td>33.516159</td>\n",
       "    </tr>\n",
       "    <tr>\n",
       "      <th>std</th>\n",
       "      <td>552.055936</td>\n",
       "      <td>323.331130</td>\n",
       "      <td>14.655946</td>\n",
       "    </tr>\n",
       "    <tr>\n",
       "      <th>min</th>\n",
       "      <td>17.794211</td>\n",
       "      <td>59.076927</td>\n",
       "      <td>3.265000</td>\n",
       "    </tr>\n",
       "    <tr>\n",
       "      <th>25%</th>\n",
       "      <td>1067.177640</td>\n",
       "      <td>394.935281</td>\n",
       "      <td>21.750423</td>\n",
       "    </tr>\n",
       "    <tr>\n",
       "      <th>50%</th>\n",
       "      <td>1414.281878</td>\n",
       "      <td>604.780649</td>\n",
       "      <td>33.169186</td>\n",
       "    </tr>\n",
       "    <tr>\n",
       "      <th>75%</th>\n",
       "      <td>1740.770604</td>\n",
       "      <td>889.852620</td>\n",
       "      <td>44.680732</td>\n",
       "    </tr>\n",
       "    <tr>\n",
       "      <th>max</th>\n",
       "      <td>2657.311435</td>\n",
       "      <td>1387.116627</td>\n",
       "      <td>69.764445</td>\n",
       "    </tr>\n",
       "  </tbody>\n",
       "</table>\n",
       "</div>"
      ],
      "text/plain": [
       "                  x             y             z\n",
       "count  18387.000000  18387.000000  18387.000000\n",
       "mean    1387.847171    648.816604     33.516159\n",
       "std      552.055936    323.331130     14.655946\n",
       "min       17.794211     59.076927      3.265000\n",
       "25%     1067.177640    394.935281     21.750423\n",
       "50%     1414.281878    604.780649     33.169186\n",
       "75%     1740.770604    889.852620     44.680732\n",
       "max     2657.311435   1387.116627     69.764445"
      ]
     },
     "execution_count": 21,
     "metadata": {},
     "output_type": "execute_result"
    }
   ],
   "source": [
    "coords.describe()"
   ]
  },
  {
   "cell_type": "code",
   "execution_count": 22,
   "metadata": {},
   "outputs": [
    {
     "data": {
      "text/html": [
       "<div>\n",
       "<style scoped>\n",
       "    .dataframe tbody tr th:only-of-type {\n",
       "        vertical-align: middle;\n",
       "    }\n",
       "\n",
       "    .dataframe tbody tr th {\n",
       "        vertical-align: top;\n",
       "    }\n",
       "\n",
       "    .dataframe thead th {\n",
       "        text-align: right;\n",
       "    }\n",
       "</style>\n",
       "<table border=\"1\" class=\"dataframe\">\n",
       "  <thead>\n",
       "    <tr style=\"text-align: right;\">\n",
       "      <th></th>\n",
       "      <th>x</th>\n",
       "      <th>y</th>\n",
       "      <th>z</th>\n",
       "      <th>cluster</th>\n",
       "      <th>cell</th>\n",
       "    </tr>\n",
       "  </thead>\n",
       "  <tbody>\n",
       "    <tr>\n",
       "      <th>0</th>\n",
       "      <td>773.024480</td>\n",
       "      <td>299.521791</td>\n",
       "      <td>6.772355</td>\n",
       "      <td>5</td>\n",
       "      <td>Slc1a3, Adora1+ SUB cells</td>\n",
       "    </tr>\n",
       "    <tr>\n",
       "      <th>1</th>\n",
       "      <td>795.097974</td>\n",
       "      <td>334.316969</td>\n",
       "      <td>7.627551</td>\n",
       "      <td>6</td>\n",
       "      <td>~Fibers `dispersed` cells</td>\n",
       "    </tr>\n",
       "    <tr>\n",
       "      <th>2</th>\n",
       "      <td>839.536370</td>\n",
       "      <td>358.085655</td>\n",
       "      <td>9.036556</td>\n",
       "      <td>5</td>\n",
       "      <td>Slc1a3, Adora1+ SUB cells</td>\n",
       "    </tr>\n",
       "    <tr>\n",
       "      <th>3</th>\n",
       "      <td>756.098844</td>\n",
       "      <td>397.329798</td>\n",
       "      <td>6.991285</td>\n",
       "      <td>5</td>\n",
       "      <td>Slc1a3, Adora1+ SUB cells</td>\n",
       "    </tr>\n",
       "    <tr>\n",
       "      <th>4</th>\n",
       "      <td>838.738964</td>\n",
       "      <td>399.246319</td>\n",
       "      <td>6.974648</td>\n",
       "      <td>5</td>\n",
       "      <td>Slc1a3, Adora1+ SUB cells</td>\n",
       "    </tr>\n",
       "    <tr>\n",
       "      <th>...</th>\n",
       "      <td>...</td>\n",
       "      <td>...</td>\n",
       "      <td>...</td>\n",
       "      <td>...</td>\n",
       "      <td>...</td>\n",
       "    </tr>\n",
       "    <tr>\n",
       "      <th>18382</th>\n",
       "      <td>2472.032816</td>\n",
       "      <td>800.266023</td>\n",
       "      <td>69.251487</td>\n",
       "      <td>5</td>\n",
       "      <td>Slc1a3, Adora1+ SUB cells</td>\n",
       "    </tr>\n",
       "    <tr>\n",
       "      <th>18383</th>\n",
       "      <td>2567.765575</td>\n",
       "      <td>677.211065</td>\n",
       "      <td>68.623140</td>\n",
       "      <td>6</td>\n",
       "      <td>~Fibers `dispersed` cells</td>\n",
       "    </tr>\n",
       "    <tr>\n",
       "      <th>18384</th>\n",
       "      <td>2573.913513</td>\n",
       "      <td>693.857789</td>\n",
       "      <td>69.180480</td>\n",
       "      <td>5</td>\n",
       "      <td>Slc1a3, Adora1+ SUB cells</td>\n",
       "    </tr>\n",
       "    <tr>\n",
       "      <th>18385</th>\n",
       "      <td>2540.470037</td>\n",
       "      <td>758.152629</td>\n",
       "      <td>69.764445</td>\n",
       "      <td>5</td>\n",
       "      <td>Slc1a3, Adora1+ SUB cells</td>\n",
       "    </tr>\n",
       "    <tr>\n",
       "      <th>18386</th>\n",
       "      <td>2464.993425</td>\n",
       "      <td>816.052461</td>\n",
       "      <td>69.478720</td>\n",
       "      <td>5</td>\n",
       "      <td>Slc1a3, Adora1+ SUB cells</td>\n",
       "    </tr>\n",
       "  </tbody>\n",
       "</table>\n",
       "<p>18387 rows × 5 columns</p>\n",
       "</div>"
      ],
      "text/plain": [
       "                 x           y          z cluster                       cell\n",
       "0       773.024480  299.521791   6.772355       5  Slc1a3, Adora1+ SUB cells\n",
       "1       795.097974  334.316969   7.627551       6  ~Fibers `dispersed` cells\n",
       "2       839.536370  358.085655   9.036556       5  Slc1a3, Adora1+ SUB cells\n",
       "3       756.098844  397.329798   6.991285       5  Slc1a3, Adora1+ SUB cells\n",
       "4       838.738964  399.246319   6.974648       5  Slc1a3, Adora1+ SUB cells\n",
       "...            ...         ...        ...     ...                        ...\n",
       "18382  2472.032816  800.266023  69.251487       5  Slc1a3, Adora1+ SUB cells\n",
       "18383  2567.765575  677.211065  68.623140       6  ~Fibers `dispersed` cells\n",
       "18384  2573.913513  693.857789  69.180480       5  Slc1a3, Adora1+ SUB cells\n",
       "18385  2540.470037  758.152629  69.764445       5  Slc1a3, Adora1+ SUB cells\n",
       "18386  2464.993425  816.052461  69.478720       5  Slc1a3, Adora1+ SUB cells\n",
       "\n",
       "[18387 rows x 5 columns]"
      ]
     },
     "execution_count": 22,
     "metadata": {},
     "output_type": "execute_result"
    }
   ],
   "source": [
    "coords"
   ]
  },
  {
   "cell_type": "code",
   "execution_count": 23,
   "metadata": {},
   "outputs": [
    {
     "data": {
      "text/plain": [
       "array(['Slc1a3, Adora1+ SUB cells', '~Fibers `dispersed` cells', nan,\n",
       "       'Egr1, Prkcg+ ~CA2 cells', 'Tiam1, Prox1+ DG cells',\n",
       "       'Calb2, Gjb6+CA1 cells', 'Sv2b. Cpe+ ~CA3 cells'], dtype=object)"
      ]
     },
     "execution_count": 23,
     "metadata": {},
     "output_type": "execute_result"
    }
   ],
   "source": [
    "coords['cell'].unique()"
   ]
  },
  {
   "cell_type": "code",
   "execution_count": 25,
   "metadata": {},
   "outputs": [
    {
     "data": {
      "text/html": [
       "<div>\n",
       "<style scoped>\n",
       "    .dataframe tbody tr th:only-of-type {\n",
       "        vertical-align: middle;\n",
       "    }\n",
       "\n",
       "    .dataframe tbody tr th {\n",
       "        vertical-align: top;\n",
       "    }\n",
       "\n",
       "    .dataframe thead th {\n",
       "        text-align: right;\n",
       "    }\n",
       "</style>\n",
       "<table border=\"1\" class=\"dataframe\">\n",
       "  <thead>\n",
       "    <tr style=\"text-align: right;\">\n",
       "      <th></th>\n",
       "      <th>x</th>\n",
       "      <th>y</th>\n",
       "      <th>z</th>\n",
       "      <th>cluster</th>\n",
       "      <th>cell</th>\n",
       "    </tr>\n",
       "  </thead>\n",
       "  <tbody>\n",
       "    <tr>\n",
       "      <th>78</th>\n",
       "      <td>1080.185295</td>\n",
       "      <td>114.560384</td>\n",
       "      <td>8.883523</td>\n",
       "      <td>1</td>\n",
       "      <td>Calb2, Gjb6+CA1 cells</td>\n",
       "    </tr>\n",
       "    <tr>\n",
       "      <th>224</th>\n",
       "      <td>599.058062</td>\n",
       "      <td>729.997057</td>\n",
       "      <td>9.755160</td>\n",
       "      <td>1</td>\n",
       "      <td>Calb2, Gjb6+CA1 cells</td>\n",
       "    </tr>\n",
       "    <tr>\n",
       "      <th>229</th>\n",
       "      <td>615.333491</td>\n",
       "      <td>745.863557</td>\n",
       "      <td>12.341201</td>\n",
       "      <td>1</td>\n",
       "      <td>Calb2, Gjb6+CA1 cells</td>\n",
       "    </tr>\n",
       "    <tr>\n",
       "      <th>241</th>\n",
       "      <td>582.526891</td>\n",
       "      <td>785.120693</td>\n",
       "      <td>9.764669</td>\n",
       "      <td>1</td>\n",
       "      <td>Calb2, Gjb6+CA1 cells</td>\n",
       "    </tr>\n",
       "    <tr>\n",
       "      <th>247</th>\n",
       "      <td>666.732967</td>\n",
       "      <td>801.146946</td>\n",
       "      <td>11.035732</td>\n",
       "      <td>1</td>\n",
       "      <td>Calb2, Gjb6+CA1 cells</td>\n",
       "    </tr>\n",
       "    <tr>\n",
       "      <th>...</th>\n",
       "      <td>...</td>\n",
       "      <td>...</td>\n",
       "      <td>...</td>\n",
       "      <td>...</td>\n",
       "      <td>...</td>\n",
       "    </tr>\n",
       "    <tr>\n",
       "      <th>15769</th>\n",
       "      <td>741.915652</td>\n",
       "      <td>1068.182086</td>\n",
       "      <td>50.154125</td>\n",
       "      <td>1</td>\n",
       "      <td>Calb2, Gjb6+CA1 cells</td>\n",
       "    </tr>\n",
       "    <tr>\n",
       "      <th>15941</th>\n",
       "      <td>701.756986</td>\n",
       "      <td>1008.635081</td>\n",
       "      <td>51.047647</td>\n",
       "      <td>1</td>\n",
       "      <td>Calb2, Gjb6+CA1 cells</td>\n",
       "    </tr>\n",
       "    <tr>\n",
       "      <th>17249</th>\n",
       "      <td>867.200472</td>\n",
       "      <td>1217.825521</td>\n",
       "      <td>54.422811</td>\n",
       "      <td>1</td>\n",
       "      <td>Calb2, Gjb6+CA1 cells</td>\n",
       "    </tr>\n",
       "    <tr>\n",
       "      <th>17565</th>\n",
       "      <td>881.767193</td>\n",
       "      <td>1214.244970</td>\n",
       "      <td>57.121072</td>\n",
       "      <td>1</td>\n",
       "      <td>Calb2, Gjb6+CA1 cells</td>\n",
       "    </tr>\n",
       "    <tr>\n",
       "      <th>17745</th>\n",
       "      <td>897.570795</td>\n",
       "      <td>1207.628099</td>\n",
       "      <td>60.838659</td>\n",
       "      <td>1</td>\n",
       "      <td>Calb2, Gjb6+CA1 cells</td>\n",
       "    </tr>\n",
       "  </tbody>\n",
       "</table>\n",
       "<p>427 rows × 5 columns</p>\n",
       "</div>"
      ],
      "text/plain": [
       "                 x            y          z cluster                   cell\n",
       "78     1080.185295   114.560384   8.883523       1  Calb2, Gjb6+CA1 cells\n",
       "224     599.058062   729.997057   9.755160       1  Calb2, Gjb6+CA1 cells\n",
       "229     615.333491   745.863557  12.341201       1  Calb2, Gjb6+CA1 cells\n",
       "241     582.526891   785.120693   9.764669       1  Calb2, Gjb6+CA1 cells\n",
       "247     666.732967   801.146946  11.035732       1  Calb2, Gjb6+CA1 cells\n",
       "...            ...          ...        ...     ...                    ...\n",
       "15769   741.915652  1068.182086  50.154125       1  Calb2, Gjb6+CA1 cells\n",
       "15941   701.756986  1008.635081  51.047647       1  Calb2, Gjb6+CA1 cells\n",
       "17249   867.200472  1217.825521  54.422811       1  Calb2, Gjb6+CA1 cells\n",
       "17565   881.767193  1214.244970  57.121072       1  Calb2, Gjb6+CA1 cells\n",
       "17745   897.570795  1207.628099  60.838659       1  Calb2, Gjb6+CA1 cells\n",
       "\n",
       "[427 rows x 5 columns]"
      ]
     },
     "execution_count": 25,
     "metadata": {},
     "output_type": "execute_result"
    }
   ],
   "source": [
    "coords[coords['cluster'] == '1']"
   ]
  },
  {
   "cell_type": "code",
   "execution_count": 19,
   "metadata": {},
   "outputs": [
    {
     "data": {
      "application/vnd.plotly.v1+json": {
       "config": {
        "plotlyServerURL": "https://plot.ly"
       },
       "data": [
        {
         "hovertemplate": "cell=M2-like macrophages (CD163, CD206, CD68)<br>x=%{x}<br>y=%{y}<br>z=%{z}<extra></extra>",
         "legendgroup": "M2-like macrophages (CD163, CD206, CD68)",
         "marker": {
          "color": "#636efa",
          "opacity": 0.7,
          "size": 1,
          "symbol": "circle"
         },
         "mode": "markers",
         "name": "M2-like macrophages (CD163, CD206, CD68)",
         "scene": "scene",
         "showlegend": true,
         "type": "scatter3d",
         "x": {
          "bdata": "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",
          "dtype": "f8"
         },
         "y": {
          "bdata": "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",
          "dtype": "f8"
         },
         "z": {
          "bdata": "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",
          "dtype": "f8"
         }
        }
       ],
       "layout": {
        "legend": {
         "title": {
          "text": "cell"
         },
         "tracegroupgap": 0
        },
        "scene": {
         "domain": {
          "x": [
           0,
           1
          ],
          "y": [
           0,
           1
          ]
         },
         "xaxis": {
          "range": [
           138.09815950920245,
           1061.96
          ],
          "title": {
           "text": "x"
          }
         },
         "yaxis": {
          "range": [
           160.183908045977,
           1126
          ],
          "title": {
           "text": "y"
          }
         },
         "zaxis": {
          "range": [
           -30,
           60
          ],
          "title": {
           "text": "z"
          }
         }
        },
        "template": {
         "data": {
          "bar": [
           {
            "error_x": {
             "color": "#2a3f5f"
            },
            "error_y": {
             "color": "#2a3f5f"
            },
            "marker": {
             "line": {
              "color": "#E5ECF6",
              "width": 0.5
             },
             "pattern": {
              "fillmode": "overlay",
              "size": 10,
              "solidity": 0.2
             }
            },
            "type": "bar"
           }
          ],
          "barpolar": [
           {
            "marker": {
             "line": {
              "color": "#E5ECF6",
              "width": 0.5
             },
             "pattern": {
              "fillmode": "overlay",
              "size": 10,
              "solidity": 0.2
             }
            },
            "type": "barpolar"
           }
          ],
          "carpet": [
           {
            "aaxis": {
             "endlinecolor": "#2a3f5f",
             "gridcolor": "white",
             "linecolor": "white",
             "minorgridcolor": "white",
             "startlinecolor": "#2a3f5f"
            },
            "baxis": {
             "endlinecolor": "#2a3f5f",
             "gridcolor": "white",
             "linecolor": "white",
             "minorgridcolor": "white",
             "startlinecolor": "#2a3f5f"
            },
            "type": "carpet"
           }
          ],
          "choropleth": [
           {
            "colorbar": {
             "outlinewidth": 0,
             "ticks": ""
            },
            "type": "choropleth"
           }
          ],
          "contour": [
           {
            "colorbar": {
             "outlinewidth": 0,
             "ticks": ""
            },
            "colorscale": [
             [
              0,
              "#0d0887"
             ],
             [
              0.1111111111111111,
              "#46039f"
             ],
             [
              0.2222222222222222,
              "#7201a8"
             ],
             [
              0.3333333333333333,
              "#9c179e"
             ],
             [
              0.4444444444444444,
              "#bd3786"
             ],
             [
              0.5555555555555556,
              "#d8576b"
             ],
             [
              0.6666666666666666,
              "#ed7953"
             ],
             [
              0.7777777777777778,
              "#fb9f3a"
             ],
             [
              0.8888888888888888,
              "#fdca26"
             ],
             [
              1,
              "#f0f921"
             ]
            ],
            "type": "contour"
           }
          ],
          "contourcarpet": [
           {
            "colorbar": {
             "outlinewidth": 0,
             "ticks": ""
            },
            "type": "contourcarpet"
           }
          ],
          "heatmap": [
           {
            "colorbar": {
             "outlinewidth": 0,
             "ticks": ""
            },
            "colorscale": [
             [
              0,
              "#0d0887"
             ],
             [
              0.1111111111111111,
              "#46039f"
             ],
             [
              0.2222222222222222,
              "#7201a8"
             ],
             [
              0.3333333333333333,
              "#9c179e"
             ],
             [
              0.4444444444444444,
              "#bd3786"
             ],
             [
              0.5555555555555556,
              "#d8576b"
             ],
             [
              0.6666666666666666,
              "#ed7953"
             ],
             [
              0.7777777777777778,
              "#fb9f3a"
             ],
             [
              0.8888888888888888,
              "#fdca26"
             ],
             [
              1,
              "#f0f921"
             ]
            ],
            "type": "heatmap"
           }
          ],
          "histogram": [
           {
            "marker": {
             "pattern": {
              "fillmode": "overlay",
              "size": 10,
              "solidity": 0.2
             }
            },
            "type": "histogram"
           }
          ],
          "histogram2d": [
           {
            "colorbar": {
             "outlinewidth": 0,
             "ticks": ""
            },
            "colorscale": [
             [
              0,
              "#0d0887"
             ],
             [
              0.1111111111111111,
              "#46039f"
             ],
             [
              0.2222222222222222,
              "#7201a8"
             ],
             [
              0.3333333333333333,
              "#9c179e"
             ],
             [
              0.4444444444444444,
              "#bd3786"
             ],
             [
              0.5555555555555556,
              "#d8576b"
             ],
             [
              0.6666666666666666,
              "#ed7953"
             ],
             [
              0.7777777777777778,
              "#fb9f3a"
             ],
             [
              0.8888888888888888,
              "#fdca26"
             ],
             [
              1,
              "#f0f921"
             ]
            ],
            "type": "histogram2d"
           }
          ],
          "histogram2dcontour": [
           {
            "colorbar": {
             "outlinewidth": 0,
             "ticks": ""
            },
            "colorscale": [
             [
              0,
              "#0d0887"
             ],
             [
              0.1111111111111111,
              "#46039f"
             ],
             [
              0.2222222222222222,
              "#7201a8"
             ],
             [
              0.3333333333333333,
              "#9c179e"
             ],
             [
              0.4444444444444444,
              "#bd3786"
             ],
             [
              0.5555555555555556,
              "#d8576b"
             ],
             [
              0.6666666666666666,
              "#ed7953"
             ],
             [
              0.7777777777777778,
              "#fb9f3a"
             ],
             [
              0.8888888888888888,
              "#fdca26"
             ],
             [
              1,
              "#f0f921"
             ]
            ],
            "type": "histogram2dcontour"
           }
          ],
          "mesh3d": [
           {
            "colorbar": {
             "outlinewidth": 0,
             "ticks": ""
            },
            "type": "mesh3d"
           }
          ],
          "parcoords": [
           {
            "line": {
             "colorbar": {
              "outlinewidth": 0,
              "ticks": ""
             }
            },
            "type": "parcoords"
           }
          ],
          "pie": [
           {
            "automargin": true,
            "type": "pie"
           }
          ],
          "scatter": [
           {
            "fillpattern": {
             "fillmode": "overlay",
             "size": 10,
             "solidity": 0.2
            },
            "type": "scatter"
           }
          ],
          "scatter3d": [
           {
            "line": {
             "colorbar": {
              "outlinewidth": 0,
              "ticks": ""
             }
            },
            "marker": {
             "colorbar": {
              "outlinewidth": 0,
              "ticks": ""
             }
            },
            "type": "scatter3d"
           }
          ],
          "scattercarpet": [
           {
            "marker": {
             "colorbar": {
              "outlinewidth": 0,
              "ticks": ""
             }
            },
            "type": "scattercarpet"
           }
          ],
          "scattergeo": [
           {
            "marker": {
             "colorbar": {
              "outlinewidth": 0,
              "ticks": ""
             }
            },
            "type": "scattergeo"
           }
          ],
          "scattergl": [
           {
            "marker": {
             "colorbar": {
              "outlinewidth": 0,
              "ticks": ""
             }
            },
            "type": "scattergl"
           }
          ],
          "scattermap": [
           {
            "marker": {
             "colorbar": {
              "outlinewidth": 0,
              "ticks": ""
             }
            },
            "type": "scattermap"
           }
          ],
          "scattermapbox": [
           {
            "marker": {
             "colorbar": {
              "outlinewidth": 0,
              "ticks": ""
             }
            },
            "type": "scattermapbox"
           }
          ],
          "scatterpolar": [
           {
            "marker": {
             "colorbar": {
              "outlinewidth": 0,
              "ticks": ""
             }
            },
            "type": "scatterpolar"
           }
          ],
          "scatterpolargl": [
           {
            "marker": {
             "colorbar": {
              "outlinewidth": 0,
              "ticks": ""
             }
            },
            "type": "scatterpolargl"
           }
          ],
          "scatterternary": [
           {
            "marker": {
             "colorbar": {
              "outlinewidth": 0,
              "ticks": ""
             }
            },
            "type": "scatterternary"
           }
          ],
          "surface": [
           {
            "colorbar": {
             "outlinewidth": 0,
             "ticks": ""
            },
            "colorscale": [
             [
              0,
              "#0d0887"
             ],
             [
              0.1111111111111111,
              "#46039f"
             ],
             [
              0.2222222222222222,
              "#7201a8"
             ],
             [
              0.3333333333333333,
              "#9c179e"
             ],
             [
              0.4444444444444444,
              "#bd3786"
             ],
             [
              0.5555555555555556,
              "#d8576b"
             ],
             [
              0.6666666666666666,
              "#ed7953"
             ],
             [
              0.7777777777777778,
              "#fb9f3a"
             ],
             [
              0.8888888888888888,
              "#fdca26"
             ],
             [
              1,
              "#f0f921"
             ]
            ],
            "type": "surface"
           }
          ],
          "table": [
           {
            "cells": {
             "fill": {
              "color": "#EBF0F8"
             },
             "line": {
              "color": "white"
             }
            },
            "header": {
             "fill": {
              "color": "#C8D4E3"
             },
             "line": {
              "color": "white"
             }
            },
            "type": "table"
           }
          ]
         },
         "layout": {
          "annotationdefaults": {
           "arrowcolor": "#2a3f5f",
           "arrowhead": 0,
           "arrowwidth": 1
          },
          "autotypenumbers": "strict",
          "coloraxis": {
           "colorbar": {
            "outlinewidth": 0,
            "ticks": ""
           }
          },
          "colorscale": {
           "diverging": [
            [
             0,
             "#8e0152"
            ],
            [
             0.1,
             "#c51b7d"
            ],
            [
             0.2,
             "#de77ae"
            ],
            [
             0.3,
             "#f1b6da"
            ],
            [
             0.4,
             "#fde0ef"
            ],
            [
             0.5,
             "#f7f7f7"
            ],
            [
             0.6,
             "#e6f5d0"
            ],
            [
             0.7,
             "#b8e186"
            ],
            [
             0.8,
             "#7fbc41"
            ],
            [
             0.9,
             "#4d9221"
            ],
            [
             1,
             "#276419"
            ]
           ],
           "sequential": [
            [
             0,
             "#0d0887"
            ],
            [
             0.1111111111111111,
             "#46039f"
            ],
            [
             0.2222222222222222,
             "#7201a8"
            ],
            [
             0.3333333333333333,
             "#9c179e"
            ],
            [
             0.4444444444444444,
             "#bd3786"
            ],
            [
             0.5555555555555556,
             "#d8576b"
            ],
            [
             0.6666666666666666,
             "#ed7953"
            ],
            [
             0.7777777777777778,
             "#fb9f3a"
            ],
            [
             0.8888888888888888,
             "#fdca26"
            ],
            [
             1,
             "#f0f921"
            ]
           ],
           "sequentialminus": [
            [
             0,
             "#0d0887"
            ],
            [
             0.1111111111111111,
             "#46039f"
            ],
            [
             0.2222222222222222,
             "#7201a8"
            ],
            [
             0.3333333333333333,
             "#9c179e"
            ],
            [
             0.4444444444444444,
             "#bd3786"
            ],
            [
             0.5555555555555556,
             "#d8576b"
            ],
            [
             0.6666666666666666,
             "#ed7953"
            ],
            [
             0.7777777777777778,
             "#fb9f3a"
            ],
            [
             0.8888888888888888,
             "#fdca26"
            ],
            [
             1,
             "#f0f921"
            ]
           ]
          },
          "colorway": [
           "#636efa",
           "#EF553B",
           "#00cc96",
           "#ab63fa",
           "#FFA15A",
           "#19d3f3",
           "#FF6692",
           "#B6E880",
           "#FF97FF",
           "#FECB52"
          ],
          "font": {
           "color": "#2a3f5f"
          },
          "geo": {
           "bgcolor": "white",
           "lakecolor": "white",
           "landcolor": "#E5ECF6",
           "showlakes": true,
           "showland": true,
           "subunitcolor": "white"
          },
          "hoverlabel": {
           "align": "left"
          },
          "hovermode": "closest",
          "mapbox": {
           "style": "light"
          },
          "paper_bgcolor": "white",
          "plot_bgcolor": "#E5ECF6",
          "polar": {
           "angularaxis": {
            "gridcolor": "white",
            "linecolor": "white",
            "ticks": ""
           },
           "bgcolor": "#E5ECF6",
           "radialaxis": {
            "gridcolor": "white",
            "linecolor": "white",
            "ticks": ""
           }
          },
          "scene": {
           "xaxis": {
            "backgroundcolor": "#E5ECF6",
            "gridcolor": "white",
            "gridwidth": 2,
            "linecolor": "white",
            "showbackground": true,
            "ticks": "",
            "zerolinecolor": "white"
           },
           "yaxis": {
            "backgroundcolor": "#E5ECF6",
            "gridcolor": "white",
            "gridwidth": 2,
            "linecolor": "white",
            "showbackground": true,
            "ticks": "",
            "zerolinecolor": "white"
           },
           "zaxis": {
            "backgroundcolor": "#E5ECF6",
            "gridcolor": "white",
            "gridwidth": 2,
            "linecolor": "white",
            "showbackground": true,
            "ticks": "",
            "zerolinecolor": "white"
           }
          },
          "shapedefaults": {
           "line": {
            "color": "#2a3f5f"
           }
          },
          "ternary": {
           "aaxis": {
            "gridcolor": "white",
            "linecolor": "white",
            "ticks": ""
           },
           "baxis": {
            "gridcolor": "white",
            "linecolor": "white",
            "ticks": ""
           },
           "bgcolor": "#E5ECF6",
           "caxis": {
            "gridcolor": "white",
            "linecolor": "white",
            "ticks": ""
           }
          },
          "title": {
           "x": 0.05
          },
          "xaxis": {
           "automargin": true,
           "gridcolor": "white",
           "linecolor": "white",
           "ticks": "",
           "title": {
            "standoff": 15
           },
           "zerolinecolor": "white",
           "zerolinewidth": 2
          },
          "yaxis": {
           "automargin": true,
           "gridcolor": "white",
           "linecolor": "white",
           "ticks": "",
           "title": {
            "standoff": 15
           },
           "zerolinecolor": "white",
           "zerolinewidth": 2
          }
         }
        },
        "title": {
         "text": "Interactive 3D Scatter"
        }
       }
      }
     },
     "metadata": {},
     "output_type": "display_data"
    }
   ],
   "source": [
    "cluster_type = [\"6\"]\n",
    "if cluster_type == [\"-1\"]:\n",
    "    cluster_type = coords['cluster'].unique()\n",
    "\n",
    "fig = px.scatter_3d(coords[coords['cluster'].isin(cluster_type)], x = 'x', y = 'y', z = 'z', \n",
    "                    color = 'cell', title = 'Interactive 3D Scatter', opacity = 0.7)\n",
    "fig.update_traces(marker = dict(size = 1))\n",
    "\n",
    "fig.update_layout(\n",
    "    scene = dict( # set according to the data\n",
    "        xaxis = dict(range = [coords['x'].min(), coords['x'].max()]),\n",
    "        yaxis = dict(range = [coords['y'].min(), coords['y'].max()]),\n",
    "        zaxis = dict(range = [coords['z'].min() - 30, coords['z'].max() + 30])\n",
    "    )\n",
    ")\n",
    "# fig.write_html(\"../images/cell_clusters_3d.html\")\n",
    "fig.show()"
   ]
  },
  {
   "cell_type": "code",
   "execution_count": 20,
   "metadata": {},
   "outputs": [],
   "source": [
    "fig.write_image('../images/Sci_embryo/cell_types_3d.png', scale = 2, engine = \"kaleido\")"
   ]
  }
 ],
 "metadata": {
  "kernelspec": {
   "display_name": "Python 3",
   "language": "python",
   "name": "python3"
  },
  "language_info": {
   "codemirror_mode": {
    "name": "ipython",
    "version": 3
   },
   "file_extension": ".py",
   "mimetype": "text/x-python",
   "name": "python",
   "nbconvert_exporter": "python",
   "pygments_lexer": "ipython3",
   "version": "3.13.2"
  }
 },
 "nbformat": 4,
 "nbformat_minor": 2
}
