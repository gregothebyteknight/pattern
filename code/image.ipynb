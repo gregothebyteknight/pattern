{
 "cells": [
  {
   "cell_type": "code",
   "execution_count": 2,
   "metadata": {},
   "outputs": [],
   "source": [
    "# import scanpy as sc\n",
    "import pandas as pd\n",
    "import numpy as np\n",
    "import plotly.express as px\n",
    "from cluster import spatial_cells\n",
    "\n",
    "# adata = sc.read(\"../data/adata_umap.h5ad\")\n",
    "coords = pd.read_csv('../data/cell_coordinates.csv')\n",
    "coords['cluster'] = np.array(coords['cluster']).astype('str')"
   ]
  },
  {
   "cell_type": "code",
   "execution_count": null,
   "metadata": {},
   "outputs": [],
   "source": [
    "coords.describe()"
   ]
  },
  {
   "cell_type": "code",
   "execution_count": null,
   "metadata": {},
   "outputs": [],
   "source": [
    "coords"
   ]
  },
  {
   "cell_type": "code",
   "execution_count": null,
   "metadata": {},
   "outputs": [],
   "source": [
    "coords['cell'].unique()"
   ]
  },
  {
   "cell_type": "code",
   "execution_count": null,
   "metadata": {},
   "outputs": [],
   "source": [
    "coords[coords['cluster'] == '15']"
   ]
  },
  {
   "cell_type": "code",
   "execution_count": null,
   "metadata": {},
   "outputs": [],
   "source": [
    "cluster_type = [\"15\"]\n",
    "if cluster_type == [\"-1\"]:\n",
    "    cluster_type = coords['cluster'].unique()\n",
    "\n",
    "fig = px.scatter_3d(coords[coords['cluster'].isin(cluster_type)], x = 'x', y = 'y', z = 'z', \n",
    "                    color = 'cell', title = 'Interactive 3D Scatter', opacity = 0.7)\n",
    "fig.update_traces(marker = dict(size = 1))\n",
    "\n",
    "fig.update_layout(\n",
    "    scene = dict( # set according to the data\n",
    "        xaxis = dict(range = [coords['x'].min(), coords['x'].max()]),\n",
    "        yaxis = dict(range = [coords['y'].min(), coords['y'].max()]),\n",
    "        zaxis = dict(range = [coords['z'].min() - 30, coords['z'].max() + 30])\n",
    "    )\n",
    ")\n",
    "# fig.write_html(\"../images/cell_clusters_3d.html\")\n",
    "fig.show()"
   ]
  },
  {
   "cell_type": "code",
   "execution_count": 20,
   "metadata": {},
   "outputs": [],
   "source": [
    "fig.write_image('../images/Sci_embryo/cell_types_3d.png', scale = 2, engine = \"kaleido\")"
   ]
  }
 ],
 "metadata": {
  "kernelspec": {
   "display_name": "Python 3",
   "language": "python",
   "name": "python3"
  },
  "language_info": {
   "codemirror_mode": {
    "name": "ipython",
    "version": 3
   },
   "file_extension": ".py",
   "mimetype": "text/x-python",
   "name": "python",
   "nbconvert_exporter": "python",
   "pygments_lexer": "ipython3",
   "version": "3.13.2"
  }
 },
 "nbformat": 4,
 "nbformat_minor": 2
}
