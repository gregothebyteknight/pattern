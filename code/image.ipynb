{
 "cells": [
  {
   "cell_type": "code",
   "execution_count": null,
   "metadata": {},
   "outputs": [],
   "source": [
    "# import scanpy as sc\n",
    "import pandas as pd\n",
    "import numpy as np\n",
    "import plotly.express as px\n",
    "from cluster import spatial_cells\n",
    "\n",
    "# adata = sc.read(\"../data/adata_umap.h5ad\")\n",
    "coords = pd.read_csv('../data/cell_coordinates.csv')\n",
    "coords['cluster'] = np.array(coords['cluster']).astype('str')"
   ]
  },
  {
   "cell_type": "code",
   "execution_count": null,
   "metadata": {},
   "outputs": [],
   "source": [
    "\n",
    "cluster_type = [\"14\"]\n",
    "if cluster_type is [\"-1\"]:\n",
    "    cluster_type = coords['cluster'].unique()\n",
    "\n",
    "fig = px.scatter_3d(coords[coords['cluster'].isin(cluster_type)], x = 'x', y = 'y', z = 'z', \n",
    "                    color = 'cluster', title = 'Interactive 3D Scatter', opacity = 0.7)\n",
    "fig.update_traces(marker = dict(size = 1))\n",
    "\n",
    "fig.update_layout(\n",
    "    scene = dict( # set according to the data\n",
    "        xaxis = dict(range = [-100, 1400]), \n",
    "        yaxis = dict(range = [-100, 1400]),\n",
    "        zaxis = dict(range = [-100, 700])\n",
    "    )\n",
    ")\n",
    "fig.show()"
   ]
  }
 ],
 "metadata": {
  "kernelspec": {
   "display_name": "Python 3",
   "language": "python",
   "name": "python3"
  },
  "language_info": {
   "codemirror_mode": {
    "name": "ipython",
    "version": 3
   },
   "file_extension": ".py",
   "mimetype": "text/x-python",
   "name": "python",
   "nbconvert_exporter": "python",
   "pygments_lexer": "ipython3",
   "version": "3.13.2"
  }
 },
 "nbformat": 4,
 "nbformat_minor": 2
}
