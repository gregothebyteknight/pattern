{
 "cells": [
  {
   "cell_type": "code",
   "execution_count": 2,
   "metadata": {},
   "outputs": [
    {
     "name": "stdout",
     "output_type": "stream",
     "text": [
      "Shape of expression matrix: (233060, 26)\n"
     ]
    }
   ],
   "source": [
    "from cluster import spatial_plot, map_cells\n",
    "import scanpy as sc\n",
    "import pandas as pd\n",
    "\n",
    "adata = sc.read(\"../data/adata_umap.h5ad\")\n",
    "coords = pd.read_csv('../data/cell_coordinates.csv', index_col = 0)"
   ]
  },
  {
   "cell_type": "code",
   "execution_count": null,
   "metadata": {},
   "outputs": [],
   "source": [
    "marker_to_cell = {\n",
    "    \"5\": \"Cytotoxic T cells (CD8a, CD3, CD45)\",\n",
    "    \"18\": \"B cells (CD20)\",\n",
    "    \"19\": \"Macrophages (CD68)\",\n",
    "    \"12\": \"Basal layer epithelium (CK5, SMA, CK14)\",\n",
    "    \"14\": \"Endothelium (vWF+CD31, Vimentin)\",\n",
    "    \"8\": \"Carcinoma (CK19, Her2, CK7, panCK)\",\n",
    "    \"4\": \"Potentially carcinoma (CK19, Her2, CK7, panCK)\",\n",
    "    \"21\": \"Potentially neutrophiles (MPO, pS6, CD44)\",\n",
    "    \"22\": \"Potentially neutrophiles (MPO, pS6, CD44)\",\n",
    "    \"9\": \"Fibroblasts (CollagenI)\",\n",
    "    \"16\": \"Potentially plasma cells (CD138, cRARP+cCasp3)\",\n",
    "} # complete according to umaps and dotplot"
   ]
  },
  {
   "cell_type": "code",
   "execution_count": 5,
   "metadata": {},
   "outputs": [],
   "source": [
    "map_cells(adata, marker_to_cell)\n",
    "spatial_plot(adata, coords, 'cell', '3D Scatter - Cell Types', \"../images/cell_types_3d.png\", \"14\")"
   ]
  }
 ],
 "metadata": {
  "kernelspec": {
   "display_name": "code",
   "language": "python",
   "name": "python3"
  },
  "language_info": {
   "codemirror_mode": {
    "name": "ipython",
    "version": 3
   },
   "file_extension": ".py",
   "mimetype": "text/x-python",
   "name": "python",
   "nbconvert_exporter": "python",
   "pygments_lexer": "ipython3",
   "version": "3.13.2"
  }
 },
 "nbformat": 4,
 "nbformat_minor": 2
}
