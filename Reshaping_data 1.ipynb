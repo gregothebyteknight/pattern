{
 "cells": [
  {
   "cell_type": "code",
   "execution_count": null,
   "id": "388d6394",
   "metadata": {},
   "outputs": [],
   "source": [
    "import numpy as np\n",
    "import pandas as pd\n",
    "import glob\n",
    "import os\n",
    "import skimage\n",
    "from skimage.io import imread, imsave"
   ]
  },
  {
   "cell_type": "code",
   "execution_count": 13,
   "id": "35fdf786",
   "metadata": {},
   "outputs": [
    {
     "data": {
      "text/plain": [
       "(1079, 1095, 33)"
      ]
     },
     "execution_count": 13,
     "metadata": {},
     "output_type": "execute_result"
    }
   ],
   "source": [
    "Masks = imread(\"./LVIBloodBreastCancerModel/full_mask_final_segmentation_hwatershed_bg500_90%.tif\")\n",
    "Masks = np.swapaxes(Masks,0,1)\n",
    "Masks = np.swapaxes(Masks,1,2)\n",
    "Masks.shape"
   ]
  },
  {
   "cell_type": "code",
   "execution_count": 14,
   "id": "4412c53f",
   "metadata": {},
   "outputs": [],
   "source": [
    "Cell_properties = skimage.measure.regionprops_table(np.squeeze(Masks),properties=['area', 'centroid'])"
   ]
  },
  {
   "cell_type": "code",
   "execution_count": 15,
   "id": "a487ad6f",
   "metadata": {},
   "outputs": [
    {
     "data": {
      "text/plain": [
       "{'area': array([ 66.,  30.,  66., ...,  46., 161., 127.], shape=(23920,)),\n",
       " 'centroid-0': array([1017.34848485,  969.36666667,  925.36363636, ...,  367.91304348,\n",
       "         366.04968944,  361.85826772], shape=(23920,)),\n",
       " 'centroid-1': array([468.63636364, 441.63333333, 528.5       , ..., 572.        ,\n",
       "        538.67701863, 459.83464567], shape=(23920,)),\n",
       " 'centroid-2': array([31.81818182, 32.        , 31.81818182, ...,  0.        ,\n",
       "         0.77018634,  0.23622047], shape=(23920,))}"
      ]
     },
     "execution_count": 15,
     "metadata": {},
     "output_type": "execute_result"
    }
   ],
   "source": [
    "Cell_properties"
   ]
  },
  {
   "cell_type": "code",
   "execution_count": null,
   "id": "544baf38",
   "metadata": {},
   "outputs": [],
   "source": [
    "List_folder = [f.path for f in os.scandir(\"./LVIBloodBreastCancerModel/SIMILARITY10_In115\") if f.is_dir()]\n",
    "\n",
    "N_X = 1079\n",
    "N_Y = 1095\n",
    "N_Z = 33\n",
    "N_channels = len(List_folder)"
   ]
  },
  {
   "cell_type": "code",
   "execution_count": 10,
   "id": "2776f21e",
   "metadata": {},
   "outputs": [
    {
     "name": "stdout",
     "output_type": "stream",
     "text": [
      "0\n"
     ]
    }
   ],
   "source": [
    "Final_image = np.zeros((N_X,N_Y,N_Z,N_channels))\n",
    "\n",
    "for k in range(len(List_folder)):\n",
    "    print(k)\n",
    "    List_files = [f for f in sorted(glob.glob(List_folder[k] + \"/*\")) if os.path.isfile(f)]\n",
    "    List_files = sorted(List_files)\n",
    "\n",
    "    Temp_image = np.zeros((N_X,N_Y,N_Z))\n",
    "    for i in range(len(List_files)):\n",
    "        m = imread(List_files[i], plugin='tifffile')\n",
    "        Temp_image[:,:,i]=m\n",
    "    Final_image[:,:,:,k] = Temp_image\n"
   ]
  },
  {
   "cell_type": "code",
   "execution_count": 12,
   "id": "9e78347c",
   "metadata": {},
   "outputs": [
    {
     "data": {
      "text/plain": [
       "(1079, 1095, 33, 1)"
      ]
     },
     "execution_count": 12,
     "metadata": {},
     "output_type": "execute_result"
    }
   ],
   "source": [
    "Final_image.shape"
   ]
  },
  {
   "cell_type": "code",
   "execution_count": 11,
   "id": "dd286dd0",
   "metadata": {},
   "outputs": [],
   "source": [
    "imsave(\"Reshaped_data.tiff\",Final_image)"
   ]
  },
  {
   "cell_type": "code",
   "execution_count": 17,
   "id": "492340fa",
   "metadata": {},
   "outputs": [],
   "source": [
    "List_metals = [''] * N_channels\n",
    "\n",
    "for k in range(len(List_folder)):\n",
    "    u = List_folder[k]\n",
    "    u = u[68:]\n",
    "    List_metals[k] =u\n",
    "    "
   ]
  },
  {
   "cell_type": "code",
   "execution_count": 22,
   "id": "06f64d21",
   "metadata": {},
   "outputs": [],
   "source": [
    "List_metals = pd.DataFrame(List_metals)\n",
    "List_metals.to_csv(\"Order_ion_channels.csv\")"
   ]
  },
  {
   "cell_type": "code",
   "execution_count": 24,
   "id": "4ca67c3d",
   "metadata": {},
   "outputs": [],
   "source": [
    "Final_image = imread(\"Reshaped_data.tiff\")"
   ]
  },
  {
   "cell_type": "code",
   "execution_count": 57,
   "id": "6b65275a",
   "metadata": {},
   "outputs": [],
   "source": [
    "Cell_intensities = skimage.measure.regionprops_table(Masks,intensity_image=Final_image,\n",
    "                                                   properties=['mean_intensity'])\n"
   ]
  },
  {
   "cell_type": "code",
   "execution_count": null,
   "id": "bd82f241",
   "metadata": {},
   "outputs": [],
   "source": [
    "Cell_properties = pd.DataFrame(Cell_properties)"
   ]
  },
  {
   "cell_type": "code",
   "execution_count": 61,
   "id": "32f9eb89",
   "metadata": {},
   "outputs": [],
   "source": [
    "Cell_properties.to_csv(\"New_cell_properties.csv\",header=['Area','X',\"Y\",\"Z\"])\n",
    "Cell_intensities.to_csv(\"New_cell_intensities.csv\")"
   ]
  },
  {
   "cell_type": "code",
   "execution_count": 48,
   "id": "51ddd852",
   "metadata": {},
   "outputs": [
    {
     "data": {
      "text/html": [
       "<div>\n",
       "<style scoped>\n",
       "    .dataframe tbody tr th:only-of-type {\n",
       "        vertical-align: middle;\n",
       "    }\n",
       "\n",
       "    .dataframe tbody tr th {\n",
       "        vertical-align: top;\n",
       "    }\n",
       "\n",
       "    .dataframe thead th {\n",
       "        text-align: right;\n",
       "    }\n",
       "</style>\n",
       "<table border=\"1\" class=\"dataframe\">\n",
       "  <thead>\n",
       "    <tr style=\"text-align: right;\">\n",
       "      <th></th>\n",
       "      <th>values</th>\n",
       "    </tr>\n",
       "  </thead>\n",
       "  <tbody>\n",
       "    <tr>\n",
       "      <th>0</th>\n",
       "      <td>NaN</td>\n",
       "    </tr>\n",
       "    <tr>\n",
       "      <th>1</th>\n",
       "      <td>NaN</td>\n",
       "    </tr>\n",
       "    <tr>\n",
       "      <th>2</th>\n",
       "      <td>NaN</td>\n",
       "    </tr>\n",
       "    <tr>\n",
       "      <th>3</th>\n",
       "      <td>NaN</td>\n",
       "    </tr>\n",
       "    <tr>\n",
       "      <th>4</th>\n",
       "      <td>NaN</td>\n",
       "    </tr>\n",
       "    <tr>\n",
       "      <th>...</th>\n",
       "      <td>...</td>\n",
       "    </tr>\n",
       "    <tr>\n",
       "      <th>23915</th>\n",
       "      <td>NaN</td>\n",
       "    </tr>\n",
       "    <tr>\n",
       "      <th>23916</th>\n",
       "      <td>NaN</td>\n",
       "    </tr>\n",
       "    <tr>\n",
       "      <th>23917</th>\n",
       "      <td>NaN</td>\n",
       "    </tr>\n",
       "    <tr>\n",
       "      <th>23918</th>\n",
       "      <td>NaN</td>\n",
       "    </tr>\n",
       "    <tr>\n",
       "      <th>23919</th>\n",
       "      <td>NaN</td>\n",
       "    </tr>\n",
       "  </tbody>\n",
       "</table>\n",
       "<p>23920 rows × 1 columns</p>\n",
       "</div>"
      ],
      "text/plain": [
       "       values\n",
       "0         NaN\n",
       "1         NaN\n",
       "2         NaN\n",
       "3         NaN\n",
       "4         NaN\n",
       "...       ...\n",
       "23915     NaN\n",
       "23916     NaN\n",
       "23917     NaN\n",
       "23918     NaN\n",
       "23919     NaN\n",
       "\n",
       "[23920 rows x 1 columns]"
      ]
     },
     "execution_count": 48,
     "metadata": {},
     "output_type": "execute_result"
    }
   ],
   "source": [
    "Cell_properties"
   ]
  },
  {
   "cell_type": "code",
   "execution_count": null,
   "id": "c31aa1c2",
   "metadata": {},
   "outputs": [],
   "source": []
  }
 ],
 "metadata": {
  "kernelspec": {
   "display_name": "code",
   "language": "python",
   "name": "python3"
  },
  "language_info": {
   "codemirror_mode": {
    "name": "ipython",
    "version": 3
   },
   "file_extension": ".py",
   "mimetype": "text/x-python",
   "name": "python",
   "nbconvert_exporter": "python",
   "pygments_lexer": "ipython3",
   "version": "3.13.2"
  }
 },
 "nbformat": 4,
 "nbformat_minor": 5
}
