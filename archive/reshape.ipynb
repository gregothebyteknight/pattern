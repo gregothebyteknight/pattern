{
 "cells": [
  {
   "cell_type": "code",
   "execution_count": 3,
   "id": "388d6394",
   "metadata": {},
   "outputs": [],
   "source": [
    "import numpy as np\n",
    "import pandas as pd\n",
    "import glob\n",
    "import os\n",
    "import skimage\n",
    "from skimage.io import imread, imsave\n",
    "import warnings\n",
    "warnings.filterwarnings(\"ignore\")"
   ]
  },
  {
   "cell_type": "code",
   "execution_count": 4,
   "id": "d21aafb6",
   "metadata": {},
   "outputs": [],
   "source": [
    "masks = imread(\"../data/full_mask_final_segmentation_hwatershed_bg500_90%.tif\")"
   ]
  },
  {
   "cell_type": "code",
   "execution_count": 6,
   "id": "7c277e5c",
   "metadata": {},
   "outputs": [
    {
     "data": {
      "text/plain": [
       "(33, 1079, 1095)"
      ]
     },
     "execution_count": 6,
     "metadata": {},
     "output_type": "execute_result"
    }
   ],
   "source": [
    "masks.shape"
   ]
  },
  {
   "cell_type": "code",
   "execution_count": 5,
   "id": "35fdf786",
   "metadata": {},
   "outputs": [
    {
     "data": {
      "text/plain": [
       "(1079, 1095, 33)"
      ]
     },
     "execution_count": 5,
     "metadata": {},
     "output_type": "execute_result"
    }
   ],
   "source": [
    "masks = imread(\"../data/full_mask_final_segmentation_hwatershed_bg500_90%.tif\")\n",
    "masks = np.swapaxes(np.swapaxes(masks, 0, 1), 1, 2)\n",
    "masks.shape"
   ]
  },
  {
   "cell_type": "code",
   "execution_count": 6,
   "id": "4412c53f",
   "metadata": {},
   "outputs": [],
   "source": [
    "cell_properties = skimage.measure.regionprops_table(np.squeeze(masks), properties=['area', 'centroid'])"
   ]
  },
  {
   "cell_type": "code",
   "execution_count": 22,
   "id": "a487ad6f",
   "metadata": {},
   "outputs": [
    {
     "data": {
      "text/plain": [
       "{'area': array([ 66.,  30.,  66., ...,  46., 161., 127.]),\n",
       " 'centroid-0': array([1017.34848485,  969.36666667,  925.36363636, ...,  367.91304348,\n",
       "         366.04968944,  361.85826772]),\n",
       " 'centroid-1': array([468.63636364, 441.63333333, 528.5       , ..., 572.        ,\n",
       "        538.67701863, 459.83464567]),\n",
       " 'centroid-2': array([31.81818182, 32.        , 31.81818182, ...,  0.        ,\n",
       "         0.77018634,  0.23622047])}"
      ]
     },
     "execution_count": 22,
     "metadata": {},
     "output_type": "execute_result"
    }
   ],
   "source": [
    "cell_properties"
   ]
  },
  {
   "cell_type": "code",
   "execution_count": 7,
   "id": "544baf38",
   "metadata": {},
   "outputs": [],
   "source": [
    "List_folder = [f.path for f in os.scandir(\"../data/SIMILARITY10_In115\") if f.is_dir()]\n",
    "\n",
    "N_X = 1079\n",
    "N_Y = 1095\n",
    "N_Z = 33\n",
    "N_channels = len(List_folder)"
   ]
  },
  {
   "cell_type": "code",
   "execution_count": 15,
   "id": "e2e21ec4",
   "metadata": {},
   "outputs": [
    {
     "data": {
      "text/plain": [
       "['../data/SIMILARITY10_In115/Sm147',\n",
       " '../data/SIMILARITY10_In115/Ir193',\n",
       " '../data/SIMILARITY10_In115/La139',\n",
       " '../data/SIMILARITY10_In115/Er166',\n",
       " '../data/SIMILARITY10_In115/Nd142',\n",
       " '../data/SIMILARITY10_In115/In113',\n",
       " '../data/SIMILARITY10_In115/Pr141',\n",
       " '../data/SIMILARITY10_In115/Nd146',\n",
       " '../data/SIMILARITY10_In115/Sm154',\n",
       " '../data/SIMILARITY10_In115/Nd143',\n",
       " '../data/SIMILARITY10_In115/Pt198',\n",
       " '../data/SIMILARITY10_In115/In115',\n",
       " '../data/SIMILARITY10_In115/Yb173',\n",
       " '../data/SIMILARITY10_In115/Ir191',\n",
       " '../data/SIMILARITY10_In115/Yb172',\n",
       " '../data/SIMILARITY10_In115/Nd150',\n",
       " '../data/SIMILARITY10_In115/Dy161',\n",
       " '../data/SIMILARITY10_In115/Gd158',\n",
       " '../data/SIMILARITY10_In115/Dy164',\n",
       " '../data/SIMILARITY10_In115/Yb176',\n",
       " '../data/SIMILARITY10_In115/Eu151',\n",
       " '../data/SIMILARITY10_In115/Sm149',\n",
       " '../data/SIMILARITY10_In115/Ho165',\n",
       " '../data/SIMILARITY10_In115/Er167',\n",
       " '../data/SIMILARITY10_In115/Yb174',\n",
       " '../data/SIMILARITY10_In115/Yb171',\n",
       " '../data/SIMILARITY10_In115/Lu175',\n",
       " '../data/SIMILARITY10_In115/Er170',\n",
       " '../data/SIMILARITY10_In115/Dy163',\n",
       " '../data/SIMILARITY10_In115/Gd160',\n",
       " '../data/SIMILARITY10_In115/Nd144',\n",
       " '../data/SIMILARITY10_In115/Eu153',\n",
       " '../data/SIMILARITY10_In115/Tm169',\n",
       " '../data/SIMILARITY10_In115/Sm152',\n",
       " '../data/SIMILARITY10_In115/Nd148',\n",
       " '../data/SIMILARITY10_In115/Dy162']"
      ]
     },
     "execution_count": 15,
     "metadata": {},
     "output_type": "execute_result"
    }
   ],
   "source": [
    "List_folder"
   ]
  },
  {
   "cell_type": "code",
   "execution_count": 8,
   "id": "207ece3c",
   "metadata": {},
   "outputs": [],
   "source": [
    "from pathlib import Path\n",
    "\n"
   ]
  },
  {
   "cell_type": "code",
   "execution_count": 9,
   "id": "2776f21e",
   "metadata": {},
   "outputs": [],
   "source": [
    "Final_image = np.zeros((N_X,N_Y,N_Z,N_channels))\n",
    "for k in range(len(List_folder)):\n",
    "    directory = Path(List_folder[k])\n",
    "    List_files = sorted([f for f in directory.iterdir() if f.is_file()])\n",
    "\n",
    "    Temp_image = np.zeros((N_X,N_Y,N_Z))\n",
    "    for i in range(len(List_files)):\n",
    "        Temp_image[:,:,i] = imread(List_files[i], plugin='tifffile')\n",
    "    Final_image[:,:,:,k] = Temp_image"
   ]
  },
  {
   "cell_type": "code",
   "execution_count": 10,
   "id": "9e78347c",
   "metadata": {},
   "outputs": [
    {
     "data": {
      "text/plain": [
       "(1079, 1095, 33, 36)"
      ]
     },
     "execution_count": 10,
     "metadata": {},
     "output_type": "execute_result"
    }
   ],
   "source": [
    "Final_image.shape"
   ]
  },
  {
   "cell_type": "code",
   "execution_count": null,
   "id": "492340fa",
   "metadata": {},
   "outputs": [],
   "source": [
    "List_metals = []\n",
    "\n",
    "# IMPORT LIBRARIES\n",
    "import numpy as np\n",
    "import pandas as pd\n",
    "import os\n",
    "import skimage\n",
    "\n",
    "from skimage.io import imread\n",
    "from pathlib import Path\n",
    "\n",
    "# DOWNLOADING DATA AND LIST VARIABLES\n",
    "masks = imread(\"../data/full_mask_final_segmentation_hwatershed_bg500_90%.tif\")\n",
    "masks = np.swapaxes(np.swapaxes(masks, 0, 1), 1, 2) # swapping x and y axes, then z and y axes\n",
    "\n",
    "fold_list = [f.path for f in os.scandir(\"../data/SIMILARITY10_In115\") if f.is_dir()]\n",
    "n_chan = len(fold_list) # number of channels == n of cell markers\n",
    "chan_list = [] # list of channel names\n",
    "\n",
    "x_dim, y_dim, z_dim = 1079, 1095, 33\n",
    "image = np.zeros((x_dim, y_dim, z_dim, n_chan)) # with channels dim added\n",
    "\n",
    "def reshape_image(fold_list):\n",
    "    \"\"\"\n",
    "    Reshape the image data into a 4D numpy array (with channels added)\n",
    "\n",
    "    @fold_list: list of folders containing the original image data\n",
    "    \"\"\"\n",
    "    for k in range(len(fold_list)):\n",
    "        directory = Path(fold_list[k])\n",
    "        file_list = sorted([f for f in directory.iterdir() if f.is_file()])\n",
    "\n",
    "        image_temp = np.zeros((x_dim, y_dim, z_dim))\n",
    "        for i in range(len(file_list)):\n",
    "            image_temp[:, :, i] = imread(file_list[i], plugin = 'tifffile')\n",
    "        image[:, :, :, k] = image_temp\n",
    "    return image\n",
    "\n",
    "def channel_order(fold_list):\n",
    "    \"\"\"\n",
    "    Save the order of the ion channels in a csv file\n",
    "    \n",
    "    @fold_list: list of folders containing the original image data\n",
    "    \"\"\"\n",
    "    for k in range(len(fold_list)):\n",
    "        chan_list.append(fold_list[k][-5:])\n",
    "        chan_list = pd.DataFrame(chan_list)\n",
    "        chan_list.to_csv(\"../data/Order_ion_channels.csv\")\n",
    "\n",
    "# CELL INTENSITIES, COORDINATES AND CHANNEL ORDER\n",
    "image = reshape_image(fold_list)\n",
    "cell_int = skimage.measure.regionprops_table(np.squeeze(masks), intensity_image = image,\n",
    "                                                   properties = ['mean_intensity'])\n",
    "cell_props = skimage.measure.regionprops_table(np.squeeze(masks), \n",
    "                                               properties = ['area', 'centroid'])\n",
    "channel_order(fold_list)\n",
    "pd.DataFrame(cell_props).to_csv(\"../data/cell_coordinates.csv\", header = ['area','x',\"y\",\"z\"])\n",
    "pd.DataFrame(cell_int).to_csv(\"../data/cell_intensities.csv\")\n",
    "for k in range(len(List_folder)):\n",
    "    List_metals.append(List_folder[k][-5:])\n",
    "    "
   ]
  },
  {
   "cell_type": "code",
   "execution_count": null,
   "id": "fc61de33",
   "metadata": {},
   "outputs": [
    {
     "data": {
      "text/plain": [
       "36"
      ]
     },
     "execution_count": 36,
     "metadata": {},
     "output_type": "execute_result"
    }
   ],
   "source": [
    "list(List_metals[0])"
   ]
  },
  {
   "cell_type": "code",
   "execution_count": 24,
   "id": "06f64d21",
   "metadata": {},
   "outputs": [],
   "source": [
    "List_metals = pd.DataFrame(List_metals)\n",
    "List_metals.to_csv(\"Order_ion_channels.csv\")"
   ]
  },
  {
   "cell_type": "code",
   "execution_count": 24,
   "id": "4ca67c3d",
   "metadata": {},
   "outputs": [],
   "source": [
    "Final_image = imread(\"Reshaped_data.tiff\")"
   ]
  },
  {
   "cell_type": "code",
   "execution_count": 28,
   "id": "6b65275a",
   "metadata": {},
   "outputs": [],
   "source": [
    "Cell_intensities = skimage.measure.regionprops_table(masks,intensity_image=Final_image,\n",
    "                                                   properties=['mean_intensity'])\n"
   ]
  },
  {
   "cell_type": "code",
   "execution_count": 30,
   "id": "bd82f241",
   "metadata": {},
   "outputs": [],
   "source": [
    "Cell_properties = pd.DataFrame(cell_properties)\n",
    "Cell_intensities = pd.DataFrame(Cell_intensities)"
   ]
  },
  {
   "cell_type": "code",
   "execution_count": 31,
   "id": "32f9eb89",
   "metadata": {},
   "outputs": [],
   "source": [
    "Cell_properties.to_csv(\"New_cell_properties.csv\",header=['Area','X',\"Y\",\"Z\"])\n",
    "Cell_intensities.to_csv(\"New_cell_intensities.csv\")"
   ]
  },
  {
   "cell_type": "code",
   "execution_count": 32,
   "id": "51ddd852",
   "metadata": {},
   "outputs": [
    {
     "data": {
      "text/html": [
       "<div>\n",
       "<style scoped>\n",
       "    .dataframe tbody tr th:only-of-type {\n",
       "        vertical-align: middle;\n",
       "    }\n",
       "\n",
       "    .dataframe tbody tr th {\n",
       "        vertical-align: top;\n",
       "    }\n",
       "\n",
       "    .dataframe thead th {\n",
       "        text-align: right;\n",
       "    }\n",
       "</style>\n",
       "<table border=\"1\" class=\"dataframe\">\n",
       "  <thead>\n",
       "    <tr style=\"text-align: right;\">\n",
       "      <th></th>\n",
       "      <th>area</th>\n",
       "      <th>centroid-0</th>\n",
       "      <th>centroid-1</th>\n",
       "      <th>centroid-2</th>\n",
       "    </tr>\n",
       "  </thead>\n",
       "  <tbody>\n",
       "    <tr>\n",
       "      <th>0</th>\n",
       "      <td>66.0</td>\n",
       "      <td>1017.348485</td>\n",
       "      <td>468.636364</td>\n",
       "      <td>31.818182</td>\n",
       "    </tr>\n",
       "    <tr>\n",
       "      <th>1</th>\n",
       "      <td>30.0</td>\n",
       "      <td>969.366667</td>\n",
       "      <td>441.633333</td>\n",
       "      <td>32.000000</td>\n",
       "    </tr>\n",
       "    <tr>\n",
       "      <th>2</th>\n",
       "      <td>66.0</td>\n",
       "      <td>925.363636</td>\n",
       "      <td>528.500000</td>\n",
       "      <td>31.818182</td>\n",
       "    </tr>\n",
       "    <tr>\n",
       "      <th>3</th>\n",
       "      <td>139.0</td>\n",
       "      <td>915.071942</td>\n",
       "      <td>566.043165</td>\n",
       "      <td>31.683453</td>\n",
       "    </tr>\n",
       "    <tr>\n",
       "      <th>4</th>\n",
       "      <td>39.0</td>\n",
       "      <td>912.128205</td>\n",
       "      <td>529.871795</td>\n",
       "      <td>32.000000</td>\n",
       "    </tr>\n",
       "    <tr>\n",
       "      <th>...</th>\n",
       "      <td>...</td>\n",
       "      <td>...</td>\n",
       "      <td>...</td>\n",
       "      <td>...</td>\n",
       "    </tr>\n",
       "    <tr>\n",
       "      <th>23915</th>\n",
       "      <td>40.0</td>\n",
       "      <td>368.750000</td>\n",
       "      <td>753.500000</td>\n",
       "      <td>0.000000</td>\n",
       "    </tr>\n",
       "    <tr>\n",
       "      <th>23916</th>\n",
       "      <td>163.0</td>\n",
       "      <td>367.478528</td>\n",
       "      <td>450.975460</td>\n",
       "      <td>0.779141</td>\n",
       "    </tr>\n",
       "    <tr>\n",
       "      <th>23917</th>\n",
       "      <td>46.0</td>\n",
       "      <td>367.913043</td>\n",
       "      <td>572.000000</td>\n",
       "      <td>0.000000</td>\n",
       "    </tr>\n",
       "    <tr>\n",
       "      <th>23918</th>\n",
       "      <td>161.0</td>\n",
       "      <td>366.049689</td>\n",
       "      <td>538.677019</td>\n",
       "      <td>0.770186</td>\n",
       "    </tr>\n",
       "    <tr>\n",
       "      <th>23919</th>\n",
       "      <td>127.0</td>\n",
       "      <td>361.858268</td>\n",
       "      <td>459.834646</td>\n",
       "      <td>0.236220</td>\n",
       "    </tr>\n",
       "  </tbody>\n",
       "</table>\n",
       "<p>23920 rows × 4 columns</p>\n",
       "</div>"
      ],
      "text/plain": [
       "        area   centroid-0  centroid-1  centroid-2\n",
       "0       66.0  1017.348485  468.636364   31.818182\n",
       "1       30.0   969.366667  441.633333   32.000000\n",
       "2       66.0   925.363636  528.500000   31.818182\n",
       "3      139.0   915.071942  566.043165   31.683453\n",
       "4       39.0   912.128205  529.871795   32.000000\n",
       "...      ...          ...         ...         ...\n",
       "23915   40.0   368.750000  753.500000    0.000000\n",
       "23916  163.0   367.478528  450.975460    0.779141\n",
       "23917   46.0   367.913043  572.000000    0.000000\n",
       "23918  161.0   366.049689  538.677019    0.770186\n",
       "23919  127.0   361.858268  459.834646    0.236220\n",
       "\n",
       "[23920 rows x 4 columns]"
      ]
     },
     "execution_count": 32,
     "metadata": {},
     "output_type": "execute_result"
    }
   ],
   "source": [
    "Cell_properties"
   ]
  }
 ],
 "metadata": {
  "kernelspec": {
   "display_name": "code",
   "language": "python",
   "name": "python3"
  },
  "language_info": {
   "codemirror_mode": {
    "name": "ipython",
    "version": 3
   },
   "file_extension": ".py",
   "mimetype": "text/x-python",
   "name": "python",
   "nbconvert_exporter": "python",
   "pygments_lexer": "ipython3",
   "version": "3.13.2"
  }
 },
 "nbformat": 4,
 "nbformat_minor": 5
}
